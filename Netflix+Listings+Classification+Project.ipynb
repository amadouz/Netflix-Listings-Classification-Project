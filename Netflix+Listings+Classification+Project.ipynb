{
 "cells": [
  {
   "cell_type": "markdown",
   "metadata": {},
   "source": [
    "# Netflix Listings Classification Project\n"
   ]
  },
  {
   "cell_type": "markdown",
   "metadata": {},
   "source": [
    "### Project Description\n",
    "The goal of this project is to build a model to classify Netflix listings as either \"Movies\" or \"TV Shows\" based on features such as release year, genre, rating, and duration. The dataset contained 6,234 entries with information about various shows on Netflix, including their type, genre, release year, rating, director, cast, and more.\n",
    "I implemented a Logistic Regression model.\n"
   ]
  },
  {
   "cell_type": "markdown",
   "metadata": {},
   "source": [
    "### Import Librairies\n",
    "Import libraries for data manipulation, visualization, and modeling."
   ]
  },
  {
   "cell_type": "code",
   "execution_count": 26,
   "metadata": {},
   "outputs": [],
   "source": [
    "import pandas as pd\n",
    "import matplotlib.pyplot as plt\n",
    "import seaborn as sns\n",
    "from sklearn.model_selection import train_test_split\n",
    "from sklearn.preprocessing import LabelEncoder\n",
    "from sklearn.linear_model import LogisticRegression\n",
    "from sklearn.metrics import accuracy_score, classification_report, ConfusionMatrixDisplay"
   ]
  },
  {
   "cell_type": "markdown",
   "metadata": {},
   "source": [
    "### Load and Explore the data\n",
    "Load the Netflix dataset and explore its structure."
   ]
  },
  {
   "cell_type": "code",
   "execution_count": 27,
   "metadata": {
    "collapsed": true
   },
   "outputs": [],
   "source": [
    "df = pd.read_csv('netflix_data_extrat_credit_project.csv')"
   ]
  },
  {
   "cell_type": "markdown",
   "metadata": {},
   "source": [
    "Display Basic information about the data"
   ]
  },
  {
   "cell_type": "code",
   "execution_count": 28,
   "metadata": {},
   "outputs": [
    {
     "name": "stdout",
     "output_type": "stream",
     "text": [
      "<class 'pandas.core.frame.DataFrame'>\n",
      "RangeIndex: 6234 entries, 0 to 6233\n",
      "Data columns (total 11 columns):\n",
      " #   Column        Non-Null Count  Dtype \n",
      "---  ------        --------------  ----- \n",
      " 0   show_id       6234 non-null   int64 \n",
      " 1   type          6234 non-null   object\n",
      " 2   release_year  6234 non-null   int64 \n",
      " 3   genre         6234 non-null   object\n",
      " 4   rating        6224 non-null   object\n",
      " 5   duration      6234 non-null   object\n",
      " 6   title         6234 non-null   object\n",
      " 7   director      4265 non-null   object\n",
      " 8   cast          5664 non-null   object\n",
      " 9   date_added    6222 non-null   object\n",
      " 10  country       5758 non-null   object\n",
      "dtypes: int64(2), object(9)\n",
      "memory usage: 535.9+ KB\n"
     ]
    }
   ],
   "source": [
    "df.info()"
   ]
  },
  {
   "cell_type": "markdown",
   "metadata": {},
   "source": [
    "Display head and Tail of the dataset"
   ]
  },
  {
   "cell_type": "code",
   "execution_count": 29,
   "metadata": {},
   "outputs": [
    {
     "data": {
      "text/html": [
       "<div>\n",
       "<style scoped>\n",
       "    .dataframe tbody tr th:only-of-type {\n",
       "        vertical-align: middle;\n",
       "    }\n",
       "\n",
       "    .dataframe tbody tr th {\n",
       "        vertical-align: top;\n",
       "    }\n",
       "\n",
       "    .dataframe thead th {\n",
       "        text-align: right;\n",
       "    }\n",
       "</style>\n",
       "<table border=\"1\" class=\"dataframe\">\n",
       "  <thead>\n",
       "    <tr style=\"text-align: right;\">\n",
       "      <th></th>\n",
       "      <th>show_id</th>\n",
       "      <th>type</th>\n",
       "      <th>release_year</th>\n",
       "      <th>genre</th>\n",
       "      <th>rating</th>\n",
       "      <th>duration</th>\n",
       "      <th>title</th>\n",
       "      <th>director</th>\n",
       "      <th>cast</th>\n",
       "      <th>date_added</th>\n",
       "      <th>country</th>\n",
       "    </tr>\n",
       "  </thead>\n",
       "  <tbody>\n",
       "    <tr>\n",
       "      <th>0</th>\n",
       "      <td>80185375</td>\n",
       "      <td>Movie</td>\n",
       "      <td>2018</td>\n",
       "      <td>Dramas, International Movies</td>\n",
       "      <td>TV-MA</td>\n",
       "      <td>122 min</td>\n",
       "      <td>Teenage Mutant Ninja Turtles: The Movie</td>\n",
       "      <td>Steve Barron</td>\n",
       "      <td>Judith Hoag, Elias Koteas, Josh Pais, Michelan...</td>\n",
       "      <td>28-Dec-18</td>\n",
       "      <td>Uruguay, Argentina, Spain</td>\n",
       "    </tr>\n",
       "    <tr>\n",
       "      <th>1</th>\n",
       "      <td>81035749</td>\n",
       "      <td>Movie</td>\n",
       "      <td>2015</td>\n",
       "      <td>Dramas, Faith &amp; Spirituality</td>\n",
       "      <td>TV-14</td>\n",
       "      <td>205 min</td>\n",
       "      <td>Tremors 2: Aftershocks</td>\n",
       "      <td>S.S. Wilson</td>\n",
       "      <td>Fred Ward, Chris Gartin, Helen Shaver, Michael...</td>\n",
       "      <td>19-Oct-18</td>\n",
       "      <td>United States, United Kingdom, Morocco</td>\n",
       "    </tr>\n",
       "    <tr>\n",
       "      <th>2</th>\n",
       "      <td>81213153</td>\n",
       "      <td>Movie</td>\n",
       "      <td>2017</td>\n",
       "      <td>Documentaries, International Movies, Sports Mo...</td>\n",
       "      <td>TV-14</td>\n",
       "      <td>81 min</td>\n",
       "      <td>National Lampoon's Loaded Weapon 1</td>\n",
       "      <td>Gene Quintano</td>\n",
       "      <td>Emilio Estevez, Samuel L. Jackson, Jon Lovitz,...</td>\n",
       "      <td>15-Dec-19</td>\n",
       "      <td>United States, South Africa</td>\n",
       "    </tr>\n",
       "    <tr>\n",
       "      <th>3</th>\n",
       "      <td>81143771</td>\n",
       "      <td>Movie</td>\n",
       "      <td>2019</td>\n",
       "      <td>Documentaries, International Movies</td>\n",
       "      <td>TV-MA</td>\n",
       "      <td>59 min</td>\n",
       "      <td>Jis Desh Men Ganga Behti Hai</td>\n",
       "      <td>Radhu Karmakar</td>\n",
       "      <td>Raj Kapoor, Padmini, Pran, Chanchal, Lalita Pa...</td>\n",
       "      <td>5-Aug-19</td>\n",
       "      <td>United States, Japan</td>\n",
       "    </tr>\n",
       "    <tr>\n",
       "      <th>4</th>\n",
       "      <td>80994807</td>\n",
       "      <td>Movie</td>\n",
       "      <td>2014</td>\n",
       "      <td>Documentaries, Sports Movies</td>\n",
       "      <td>TV-G</td>\n",
       "      <td>49 min</td>\n",
       "      <td>The Naked Gun 2 1/2: The Smell of Fear</td>\n",
       "      <td>David Zucker</td>\n",
       "      <td>Leslie Nielsen, Priscilla Presley, George Kenn...</td>\n",
       "      <td>27-Jun-18</td>\n",
       "      <td>United States, France</td>\n",
       "    </tr>\n",
       "  </tbody>\n",
       "</table>\n",
       "</div>"
      ],
      "text/plain": [
       "    show_id   type  release_year  \\\n",
       "0  80185375  Movie          2018   \n",
       "1  81035749  Movie          2015   \n",
       "2  81213153  Movie          2017   \n",
       "3  81143771  Movie          2019   \n",
       "4  80994807  Movie          2014   \n",
       "\n",
       "                                               genre rating duration  \\\n",
       "0                       Dramas, International Movies  TV-MA  122 min   \n",
       "1                       Dramas, Faith & Spirituality  TV-14  205 min   \n",
       "2  Documentaries, International Movies, Sports Mo...  TV-14   81 min   \n",
       "3                Documentaries, International Movies  TV-MA   59 min   \n",
       "4                       Documentaries, Sports Movies   TV-G   49 min   \n",
       "\n",
       "                                     title        director  \\\n",
       "0  Teenage Mutant Ninja Turtles: The Movie    Steve Barron   \n",
       "1                   Tremors 2: Aftershocks     S.S. Wilson   \n",
       "2       National Lampoon's Loaded Weapon 1   Gene Quintano   \n",
       "3             Jis Desh Men Ganga Behti Hai  Radhu Karmakar   \n",
       "4   The Naked Gun 2 1/2: The Smell of Fear    David Zucker   \n",
       "\n",
       "                                                cast date_added  \\\n",
       "0  Judith Hoag, Elias Koteas, Josh Pais, Michelan...  28-Dec-18   \n",
       "1  Fred Ward, Chris Gartin, Helen Shaver, Michael...  19-Oct-18   \n",
       "2  Emilio Estevez, Samuel L. Jackson, Jon Lovitz,...  15-Dec-19   \n",
       "3  Raj Kapoor, Padmini, Pran, Chanchal, Lalita Pa...   5-Aug-19   \n",
       "4  Leslie Nielsen, Priscilla Presley, George Kenn...  27-Jun-18   \n",
       "\n",
       "                                  country  \n",
       "0               Uruguay, Argentina, Spain  \n",
       "1  United States, United Kingdom, Morocco  \n",
       "2             United States, South Africa  \n",
       "3                    United States, Japan  \n",
       "4                   United States, France  "
      ]
     },
     "metadata": {},
     "output_type": "display_data"
    },
    {
     "data": {
      "text/html": [
       "<div>\n",
       "<style scoped>\n",
       "    .dataframe tbody tr th:only-of-type {\n",
       "        vertical-align: middle;\n",
       "    }\n",
       "\n",
       "    .dataframe tbody tr th {\n",
       "        vertical-align: top;\n",
       "    }\n",
       "\n",
       "    .dataframe thead th {\n",
       "        text-align: right;\n",
       "    }\n",
       "</style>\n",
       "<table border=\"1\" class=\"dataframe\">\n",
       "  <thead>\n",
       "    <tr style=\"text-align: right;\">\n",
       "      <th></th>\n",
       "      <th>show_id</th>\n",
       "      <th>type</th>\n",
       "      <th>release_year</th>\n",
       "      <th>genre</th>\n",
       "      <th>rating</th>\n",
       "      <th>duration</th>\n",
       "      <th>title</th>\n",
       "      <th>director</th>\n",
       "      <th>cast</th>\n",
       "      <th>date_added</th>\n",
       "      <th>country</th>\n",
       "    </tr>\n",
       "  </thead>\n",
       "  <tbody>\n",
       "    <tr>\n",
       "      <th>6229</th>\n",
       "      <td>1145882</td>\n",
       "      <td>Movie</td>\n",
       "      <td>1973</td>\n",
       "      <td>Action &amp; Adventure, International Movies</td>\n",
       "      <td>NR</td>\n",
       "      <td>81 min</td>\n",
       "      <td>Beavis and Butt-head Do America</td>\n",
       "      <td>Mike Judge</td>\n",
       "      <td>Mike Judge, Bruce Willis, Demi Moore, Cloris L...</td>\n",
       "      <td>1-Nov-16</td>\n",
       "      <td>Hong Kong</td>\n",
       "    </tr>\n",
       "    <tr>\n",
       "      <th>6230</th>\n",
       "      <td>1067876</td>\n",
       "      <td>Movie</td>\n",
       "      <td>1969</td>\n",
       "      <td>Classic Movies, Dramas</td>\n",
       "      <td>G</td>\n",
       "      <td>128 min</td>\n",
       "      <td>Barsaat</td>\n",
       "      <td>Rajkumar Santoshi</td>\n",
       "      <td>Twinkle Khanna, Bobby Deol, Danny Denzongpa, R...</td>\n",
       "      <td>1-Jan-20</td>\n",
       "      <td>United States</td>\n",
       "    </tr>\n",
       "    <tr>\n",
       "      <th>6231</th>\n",
       "      <td>1065372</td>\n",
       "      <td>Movie</td>\n",
       "      <td>1996</td>\n",
       "      <td>Thrillers</td>\n",
       "      <td>R</td>\n",
       "      <td>94 min</td>\n",
       "      <td>La Bamba</td>\n",
       "      <td>Luis Valdez</td>\n",
       "      <td>Lou Diamond Phillips, Esai Morales, Rosanna De...</td>\n",
       "      <td>1-Jan-18</td>\n",
       "      <td>United States</td>\n",
       "    </tr>\n",
       "    <tr>\n",
       "      <th>6232</th>\n",
       "      <td>1008581</td>\n",
       "      <td>Movie</td>\n",
       "      <td>1981</td>\n",
       "      <td>Classic Movies, Comedies, Cult Movies</td>\n",
       "      <td>R</td>\n",
       "      <td>106 min</td>\n",
       "      <td>Bad Boys</td>\n",
       "      <td>Michael Bay</td>\n",
       "      <td>Will Smith, Martin Lawrence, T??a Leoni, Tch??...</td>\n",
       "      <td>1-Sep-19</td>\n",
       "      <td>United States</td>\n",
       "    </tr>\n",
       "    <tr>\n",
       "      <th>6233</th>\n",
       "      <td>1005494</td>\n",
       "      <td>Movie</td>\n",
       "      <td>1946</td>\n",
       "      <td>Classic Movies, Dramas, Thrillers</td>\n",
       "      <td>TV-PG</td>\n",
       "      <td>94 min</td>\n",
       "      <td>Amar Akbar Anthony</td>\n",
       "      <td>Manmohan Desai</td>\n",
       "      <td>Vinod Khanna, Rishi Kapoor, Amitabh Bachchan, ...</td>\n",
       "      <td>19-Jul-18</td>\n",
       "      <td>United States</td>\n",
       "    </tr>\n",
       "  </tbody>\n",
       "</table>\n",
       "</div>"
      ],
      "text/plain": [
       "      show_id   type  release_year                                     genre  \\\n",
       "6229  1145882  Movie          1973  Action & Adventure, International Movies   \n",
       "6230  1067876  Movie          1969                    Classic Movies, Dramas   \n",
       "6231  1065372  Movie          1996                                 Thrillers   \n",
       "6232  1008581  Movie          1981     Classic Movies, Comedies, Cult Movies   \n",
       "6233  1005494  Movie          1946         Classic Movies, Dramas, Thrillers   \n",
       "\n",
       "     rating duration                            title           director  \\\n",
       "6229     NR   81 min  Beavis and Butt-head Do America         Mike Judge   \n",
       "6230      G  128 min                          Barsaat  Rajkumar Santoshi   \n",
       "6231      R   94 min                         La Bamba        Luis Valdez   \n",
       "6232      R  106 min                         Bad Boys        Michael Bay   \n",
       "6233  TV-PG   94 min               Amar Akbar Anthony     Manmohan Desai   \n",
       "\n",
       "                                                   cast date_added  \\\n",
       "6229  Mike Judge, Bruce Willis, Demi Moore, Cloris L...   1-Nov-16   \n",
       "6230  Twinkle Khanna, Bobby Deol, Danny Denzongpa, R...   1-Jan-20   \n",
       "6231  Lou Diamond Phillips, Esai Morales, Rosanna De...   1-Jan-18   \n",
       "6232  Will Smith, Martin Lawrence, T??a Leoni, Tch??...   1-Sep-19   \n",
       "6233  Vinod Khanna, Rishi Kapoor, Amitabh Bachchan, ...  19-Jul-18   \n",
       "\n",
       "            country  \n",
       "6229      Hong Kong  \n",
       "6230  United States  \n",
       "6231  United States  \n",
       "6232  United States  \n",
       "6233  United States  "
      ]
     },
     "metadata": {},
     "output_type": "display_data"
    }
   ],
   "source": [
    "head = df.head()\n",
    "tail = df.tail()\n",
    "display(head, tail)"
   ]
  },
  {
   "cell_type": "markdown",
   "metadata": {},
   "source": [
    "### Visualize the distribution of the target variable\n",
    "Plot the distribution of 'type' (Movie vs. TV Show)"
   ]
  },
  {
   "cell_type": "code",
   "execution_count": 30,
   "metadata": {},
   "outputs": [
    {
     "name": "stderr",
     "output_type": "stream",
     "text": [
      "<ipython-input-30-fc7fa3f84eb2>:2: FutureWarning: \n",
      "\n",
      "Passing `palette` without assigning `hue` is deprecated and will be removed in v0.14.0. Assign the `x` variable to `hue` and set `legend=False` for the same effect.\n",
      "\n",
      "  sns.countplot(data=df, x='type', palette='Set2')\n"
     ]
    },
    {
     "data": {
      "image/png": "[encoded data removed]",
      "text/plain": [
       "<Figure size 432x288 with 1 Axes>"
      ]
     },
     "metadata": {
      "needs_background": "light"
     },
     "output_type": "display_data"
    }
   ],
   "source": [
    "plt.figure(figsize=(6, 4))\n",
    "sns.countplot(data=df, x='type', palette='Set2')\n",
    "plt.title('Distribution of Movies and TV Shows')\n",
    "plt.xlabel('Type')\n",
    "plt.ylabel('Count')\n",
    "plt.show()"
   ]
  },
  {
   "cell_type": "markdown",
   "metadata": {},
   "source": [
    "### Handle missing values\n",
    "Check for missing values"
   ]
  },
  {
   "cell_type": "code",
   "execution_count": 31,
   "metadata": {},
   "outputs": [
    {
     "name": "stdout",
     "output_type": "stream",
     "text": [
      "Missing values before handling:\n",
      "show_id            0\n",
      "type               0\n",
      "release_year       0\n",
      "genre              0\n",
      "rating            10\n",
      "duration           0\n",
      "title              0\n",
      "director        1969\n",
      "cast             570\n",
      "date_added        12\n",
      "country          476\n",
      "dtype: int64\n"
     ]
    }
   ],
   "source": [
    "print(\"Missing values before handling:\")\n",
    "print(df.isnull().sum())"
   ]
  },
  {
   "cell_type": "markdown",
   "metadata": {},
   "source": [
    "Fill missing values in the 'rating' column with 'Unknown'"
   ]
  },
  {
   "cell_type": "code",
   "execution_count": 32,
   "metadata": {},
   "outputs": [
    {
     "data": {
      "text/html": [
       "<div>\n",
       "<style scoped>\n",
       "    .dataframe tbody tr th:only-of-type {\n",
       "        vertical-align: middle;\n",
       "    }\n",
       "\n",
       "    .dataframe tbody tr th {\n",
       "        vertical-align: top;\n",
       "    }\n",
       "\n",
       "    .dataframe thead th {\n",
       "        text-align: right;\n",
       "    }\n",
       "</style>\n",
       "<table border=\"1\" class=\"dataframe\">\n",
       "  <thead>\n",
       "    <tr style=\"text-align: right;\">\n",
       "      <th></th>\n",
       "      <th>show_id</th>\n",
       "      <th>type</th>\n",
       "      <th>release_year</th>\n",
       "      <th>genre</th>\n",
       "      <th>rating</th>\n",
       "      <th>duration</th>\n",
       "      <th>title</th>\n",
       "      <th>director</th>\n",
       "      <th>cast</th>\n",
       "      <th>date_added</th>\n",
       "      <th>country</th>\n",
       "    </tr>\n",
       "  </thead>\n",
       "  <tbody>\n",
       "    <tr>\n",
       "      <th>0</th>\n",
       "      <td>80185375</td>\n",
       "      <td>Movie</td>\n",
       "      <td>2018</td>\n",
       "      <td>Dramas, International Movies</td>\n",
       "      <td>TV-MA</td>\n",
       "      <td>122 min</td>\n",
       "      <td>Teenage Mutant Ninja Turtles: The Movie</td>\n",
       "      <td>Steve Barron</td>\n",
       "      <td>Judith Hoag, Elias Koteas, Josh Pais, Michelan...</td>\n",
       "      <td>28-Dec-18</td>\n",
       "      <td>Uruguay, Argentina, Spain</td>\n",
       "    </tr>\n",
       "    <tr>\n",
       "      <th>1</th>\n",
       "      <td>81035749</td>\n",
       "      <td>Movie</td>\n",
       "      <td>2015</td>\n",
       "      <td>Dramas, Faith &amp; Spirituality</td>\n",
       "      <td>TV-14</td>\n",
       "      <td>205 min</td>\n",
       "      <td>Tremors 2: Aftershocks</td>\n",
       "      <td>S.S. Wilson</td>\n",
       "      <td>Fred Ward, Chris Gartin, Helen Shaver, Michael...</td>\n",
       "      <td>19-Oct-18</td>\n",
       "      <td>United States, United Kingdom, Morocco</td>\n",
       "    </tr>\n",
       "    <tr>\n",
       "      <th>2</th>\n",
       "      <td>81213153</td>\n",
       "      <td>Movie</td>\n",
       "      <td>2017</td>\n",
       "      <td>Documentaries, International Movies, Sports Mo...</td>\n",
       "      <td>TV-14</td>\n",
       "      <td>81 min</td>\n",
       "      <td>National Lampoon's Loaded Weapon 1</td>\n",
       "      <td>Gene Quintano</td>\n",
       "      <td>Emilio Estevez, Samuel L. Jackson, Jon Lovitz,...</td>\n",
       "      <td>15-Dec-19</td>\n",
       "      <td>United States, South Africa</td>\n",
       "    </tr>\n",
       "    <tr>\n",
       "      <th>3</th>\n",
       "      <td>81143771</td>\n",
       "      <td>Movie</td>\n",
       "      <td>2019</td>\n",
       "      <td>Documentaries, International Movies</td>\n",
       "      <td>TV-MA</td>\n",
       "      <td>59 min</td>\n",
       "      <td>Jis Desh Men Ganga Behti Hai</td>\n",
       "      <td>Radhu Karmakar</td>\n",
       "      <td>Raj Kapoor, Padmini, Pran, Chanchal, Lalita Pa...</td>\n",
       "      <td>5-Aug-19</td>\n",
       "      <td>United States, Japan</td>\n",
       "    </tr>\n",
       "    <tr>\n",
       "      <th>4</th>\n",
       "      <td>80994807</td>\n",
       "      <td>Movie</td>\n",
       "      <td>2014</td>\n",
       "      <td>Documentaries, Sports Movies</td>\n",
       "      <td>TV-G</td>\n",
       "      <td>49 min</td>\n",
       "      <td>The Naked Gun 2 1/2: The Smell of Fear</td>\n",
       "      <td>David Zucker</td>\n",
       "      <td>Leslie Nielsen, Priscilla Presley, George Kenn...</td>\n",
       "      <td>27-Jun-18</td>\n",
       "      <td>United States, France</td>\n",
       "    </tr>\n",
       "    <tr>\n",
       "      <th>...</th>\n",
       "      <td>...</td>\n",
       "      <td>...</td>\n",
       "      <td>...</td>\n",
       "      <td>...</td>\n",
       "      <td>...</td>\n",
       "      <td>...</td>\n",
       "      <td>...</td>\n",
       "      <td>...</td>\n",
       "      <td>...</td>\n",
       "      <td>...</td>\n",
       "      <td>...</td>\n",
       "    </tr>\n",
       "    <tr>\n",
       "      <th>6229</th>\n",
       "      <td>1145882</td>\n",
       "      <td>Movie</td>\n",
       "      <td>1973</td>\n",
       "      <td>Action &amp; Adventure, International Movies</td>\n",
       "      <td>NR</td>\n",
       "      <td>81 min</td>\n",
       "      <td>Beavis and Butt-head Do America</td>\n",
       "      <td>Mike Judge</td>\n",
       "      <td>Mike Judge, Bruce Willis, Demi Moore, Cloris L...</td>\n",
       "      <td>1-Nov-16</td>\n",
       "      <td>Hong Kong</td>\n",
       "    </tr>\n",
       "    <tr>\n",
       "      <th>6230</th>\n",
       "      <td>1067876</td>\n",
       "      <td>Movie</td>\n",
       "      <td>1969</td>\n",
       "      <td>Classic Movies, Dramas</td>\n",
       "      <td>G</td>\n",
       "      <td>128 min</td>\n",
       "      <td>Barsaat</td>\n",
       "      <td>Rajkumar Santoshi</td>\n",
       "      <td>Twinkle Khanna, Bobby Deol, Danny Denzongpa, R...</td>\n",
       "      <td>1-Jan-20</td>\n",
       "      <td>United States</td>\n",
       "    </tr>\n",
       "    <tr>\n",
       "      <th>6231</th>\n",
       "      <td>1065372</td>\n",
       "      <td>Movie</td>\n",
       "      <td>1996</td>\n",
       "      <td>Thrillers</td>\n",
       "      <td>R</td>\n",
       "      <td>94 min</td>\n",
       "      <td>La Bamba</td>\n",
       "      <td>Luis Valdez</td>\n",
       "      <td>Lou Diamond Phillips, Esai Morales, Rosanna De...</td>\n",
       "      <td>1-Jan-18</td>\n",
       "      <td>United States</td>\n",
       "    </tr>\n",
       "    <tr>\n",
       "      <th>6232</th>\n",
       "      <td>1008581</td>\n",
       "      <td>Movie</td>\n",
       "      <td>1981</td>\n",
       "      <td>Classic Movies, Comedies, Cult Movies</td>\n",
       "      <td>R</td>\n",
       "      <td>106 min</td>\n",
       "      <td>Bad Boys</td>\n",
       "      <td>Michael Bay</td>\n",
       "      <td>Will Smith, Martin Lawrence, T??a Leoni, Tch??...</td>\n",
       "      <td>1-Sep-19</td>\n",
       "      <td>United States</td>\n",
       "    </tr>\n",
       "    <tr>\n",
       "      <th>6233</th>\n",
       "      <td>1005494</td>\n",
       "      <td>Movie</td>\n",
       "      <td>1946</td>\n",
       "      <td>Classic Movies, Dramas, Thrillers</td>\n",
       "      <td>TV-PG</td>\n",
       "      <td>94 min</td>\n",
       "      <td>Amar Akbar Anthony</td>\n",
       "      <td>Manmohan Desai</td>\n",
       "      <td>Vinod Khanna, Rishi Kapoor, Amitabh Bachchan, ...</td>\n",
       "      <td>19-Jul-18</td>\n",
       "      <td>United States</td>\n",
       "    </tr>\n",
       "  </tbody>\n",
       "</table>\n",
       "<p>6234 rows × 11 columns</p>\n",
       "</div>"
      ],
      "text/plain": [
       "       show_id   type  release_year  \\\n",
       "0     80185375  Movie          2018   \n",
       "1     81035749  Movie          2015   \n",
       "2     81213153  Movie          2017   \n",
       "3     81143771  Movie          2019   \n",
       "4     80994807  Movie          2014   \n",
       "...        ...    ...           ...   \n",
       "6229   1145882  Movie          1973   \n",
       "6230   1067876  Movie          1969   \n",
       "6231   1065372  Movie          1996   \n",
       "6232   1008581  Movie          1981   \n",
       "6233   1005494  Movie          1946   \n",
       "\n",
       "                                                  genre rating duration  \\\n",
       "0                          Dramas, International Movies  TV-MA  122 min   \n",
       "1                          Dramas, Faith & Spirituality  TV-14  205 min   \n",
       "2     Documentaries, International Movies, Sports Mo...  TV-14   81 min   \n",
       "3                   Documentaries, International Movies  TV-MA   59 min   \n",
       "4                          Documentaries, Sports Movies   TV-G   49 min   \n",
       "...                                                 ...    ...      ...   \n",
       "6229           Action & Adventure, International Movies     NR   81 min   \n",
       "6230                             Classic Movies, Dramas      G  128 min   \n",
       "6231                                          Thrillers      R   94 min   \n",
       "6232              Classic Movies, Comedies, Cult Movies      R  106 min   \n",
       "6233                  Classic Movies, Dramas, Thrillers  TV-PG   94 min   \n",
       "\n",
       "                                        title           director  \\\n",
       "0     Teenage Mutant Ninja Turtles: The Movie       Steve Barron   \n",
       "1                      Tremors 2: Aftershocks        S.S. Wilson   \n",
       "2          National Lampoon's Loaded Weapon 1      Gene Quintano   \n",
       "3                Jis Desh Men Ganga Behti Hai     Radhu Karmakar   \n",
       "4      The Naked Gun 2 1/2: The Smell of Fear       David Zucker   \n",
       "...                                       ...                ...   \n",
       "6229          Beavis and Butt-head Do America         Mike Judge   \n",
       "6230                                  Barsaat  Rajkumar Santoshi   \n",
       "6231                                 La Bamba        Luis Valdez   \n",
       "6232                                 Bad Boys        Michael Bay   \n",
       "6233                       Amar Akbar Anthony     Manmohan Desai   \n",
       "\n",
       "                                                   cast date_added  \\\n",
       "0     Judith Hoag, Elias Koteas, Josh Pais, Michelan...  28-Dec-18   \n",
       "1     Fred Ward, Chris Gartin, Helen Shaver, Michael...  19-Oct-18   \n",
       "2     Emilio Estevez, Samuel L. Jackson, Jon Lovitz,...  15-Dec-19   \n",
       "3     Raj Kapoor, Padmini, Pran, Chanchal, Lalita Pa...   5-Aug-19   \n",
       "4     Leslie Nielsen, Priscilla Presley, George Kenn...  27-Jun-18   \n",
       "...                                                 ...        ...   \n",
       "6229  Mike Judge, Bruce Willis, Demi Moore, Cloris L...   1-Nov-16   \n",
       "6230  Twinkle Khanna, Bobby Deol, Danny Denzongpa, R...   1-Jan-20   \n",
       "6231  Lou Diamond Phillips, Esai Morales, Rosanna De...   1-Jan-18   \n",
       "6232  Will Smith, Martin Lawrence, T??a Leoni, Tch??...   1-Sep-19   \n",
       "6233  Vinod Khanna, Rishi Kapoor, Amitabh Bachchan, ...  19-Jul-18   \n",
       "\n",
       "                                     country  \n",
       "0                  Uruguay, Argentina, Spain  \n",
       "1     United States, United Kingdom, Morocco  \n",
       "2                United States, South Africa  \n",
       "3                       United States, Japan  \n",
       "4                      United States, France  \n",
       "...                                      ...  \n",
       "6229                               Hong Kong  \n",
       "6230                           United States  \n",
       "6231                           United States  \n",
       "6232                           United States  \n",
       "6233                           United States  \n",
       "\n",
       "[6234 rows x 11 columns]"
      ]
     },
     "metadata": {},
     "output_type": "display_data"
    }
   ],
   "source": [
    "df['rating'] = df['rating'].fillna('Unknown')\n",
    "display(df)"
   ]
  },
  {
   "cell_type": "markdown",
   "metadata": {},
   "source": [
    "Verify there are no missing values in relevant columns"
   ]
  },
  {
   "cell_type": "code",
   "execution_count": 33,
   "metadata": {},
   "outputs": [
    {
     "name": "stdout",
     "output_type": "stream",
     "text": [
      "Missing values after handling:\n",
      "show_id            0\n",
      "type               0\n",
      "release_year       0\n",
      "genre              0\n",
      "rating             0\n",
      "duration           0\n",
      "title              0\n",
      "director        1969\n",
      "cast             570\n",
      "date_added        12\n",
      "country          476\n",
      "dtype: int64\n"
     ]
    }
   ],
   "source": [
    "print(\"Missing values after handling:\")\n",
    "print(df.isnull().sum())"
   ]
  },
  {
   "cell_type": "markdown",
   "metadata": {},
   "source": [
    "### Encode the target variable\n",
    "The 'type' column is the target variable (Movie or TV Show).\n",
    "Encode it as numeric: Movie = 1, TV Show = 0."
   ]
  },
  {
   "cell_type": "code",
   "execution_count": 34,
   "metadata": {
    "collapsed": true
   },
   "outputs": [],
   "source": [
    "label_encoder = LabelEncoder()\n",
    "df['type_encoded'] = label_encoder.fit_transform(df['type'])"
   ]
  },
  {
   "cell_type": "markdown",
   "metadata": {},
   "source": [
    "# Visualize Release Year Trends\n",
    "Plot the distribution of release years"
   ]
  },
  {
   "cell_type": "code",
   "execution_count": 35,
   "metadata": {},
   "outputs": [
    {
     "data": {
      "image/png": "[encoded data removed]",
      "text/plain": [
       "<Figure size 576x360 with 1 Axes>"
      ]
     },
     "metadata": {
      "needs_background": "light"
     },
     "output_type": "display_data"
    }
   ],
   "source": [
    "plt.figure(figsize=(8, 5))\n",
    "sns.histplot(data=df, x='release_year', bins=20, kde=True, color='blue')\n",
    "plt.title('Distribution of Release Years')\n",
    "plt.xlabel('Release Year')\n",
    "plt.ylabel('Count')\n",
    "plt.show()"
   ]
  },
  {
   "cell_type": "markdown",
   "metadata": {},
   "source": [
    "### Select Features and Encode Categorical Variables\n",
    "Features: 'release_year', 'genre', 'rating', 'duration'"
   ]
  },
  {
   "cell_type": "code",
   "execution_count": 36,
   "metadata": {
    "collapsed": true
   },
   "outputs": [],
   "source": [
    "features = ['release_year', 'genre', 'rating', 'duration']"
   ]
  },
  {
   "cell_type": "markdown",
   "metadata": {},
   "source": [
    "One-hot encode categorical features ('genre', 'rating', 'duration')"
   ]
  },
  {
   "cell_type": "code",
   "execution_count": 37,
   "metadata": {
    "collapsed": true
   },
   "outputs": [],
   "source": [
    "df_encoded = pd.get_dummies(df[features], columns=['genre', 'rating', 'duration'], drop_first=True)"
   ]
  },
  {
   "cell_type": "markdown",
   "metadata": {},
   "source": [
    "Define the feature set (X) and the target variable (y)"
   ]
  },
  {
   "cell_type": "code",
   "execution_count": 38,
   "metadata": {
    "collapsed": true
   },
   "outputs": [],
   "source": [
    "X = df_encoded\n",
    "y = df['type_encoded']"
   ]
  },
  {
   "cell_type": "markdown",
   "metadata": {},
   "source": [
    "Split the Data into Training and Testing Sets"
   ]
  },
  {
   "cell_type": "code",
   "execution_count": 39,
   "metadata": {
    "collapsed": true
   },
   "outputs": [],
   "source": [
    "X_train, X_test, y_train, y_test = train_test_split(X, y, test_size=0.2, random_state=42)"
   ]
  },
  {
   "cell_type": "markdown",
   "metadata": {},
   "source": [
    "### Train a Logistic Regression Model\n",
    "Initialize and train the Logistic Regression model"
   ]
  },
  {
   "cell_type": "code",
   "execution_count": 40,
   "metadata": {},
   "outputs": [
    {
     "data": {
      "text/html": [
       "<style>#sk-container-id-2 {color: black;background-color: white;}#sk-container-id-2 pre{padding: 0;}#sk-container-id-2 div.sk-toggleable {background-color: white;}#sk-container-id-2 label.sk-toggleable__label {cursor: pointer;display: block;width: 100%;margin-bottom: 0;padding: 0.3em;box-sizing: border-box;text-align: center;}#sk-container-id-2 label.sk-toggleable__label-arrow:before {content: \"▸\";float: left;margin-right: 0.25em;color: #696969;}#sk-container-id-2 label.sk-toggleable__label-arrow:hover:before {color: black;}#sk-container-id-2 div.sk-estimator:hover label.sk-toggleable__label-arrow:before {color: black;}#sk-container-id-2 div.sk-toggleable__content {max-height: 0;max-width: 0;overflow: hidden;text-align: left;background-color: #f0f8ff;}#sk-container-id-2 div.sk-toggleable__content pre {margin: 0.2em;color: black;border-radius: 0.25em;background-color: #f0f8ff;}#sk-container-id-2 input.sk-toggleable__control:checked~div.sk-toggleable__content {max-height: 200px;max-width: 100%;overflow: auto;}#sk-container-id-2 input.sk-toggleable__control:checked~label.sk-toggleable__label-arrow:before {content: \"▾\";}#sk-container-id-2 div.sk-estimator input.sk-toggleable__control:checked~label.sk-toggleable__label {background-color: #d4ebff;}#sk-container-id-2 div.sk-label input.sk-toggleable__control:checked~label.sk-toggleable__label {background-color: #d4ebff;}#sk-container-id-2 input.sk-hidden--visually {border: 0;clip: rect(1px 1px 1px 1px);clip: rect(1px, 1px, 1px, 1px);height: 1px;margin: -1px;overflow: hidden;padding: 0;position: absolute;width: 1px;}#sk-container-id-2 div.sk-estimator {font-family: monospace;background-color: #f0f8ff;border: 1px dotted black;border-radius: 0.25em;box-sizing: border-box;margin-bottom: 0.5em;}#sk-container-id-2 div.sk-estimator:hover {background-color: #d4ebff;}#sk-container-id-2 div.sk-parallel-item::after {content: \"\";width: 100%;border-bottom: 1px solid gray;flex-grow: 1;}#sk-container-id-2 div.sk-label:hover label.sk-toggleable__label {background-color: #d4ebff;}#sk-container-id-2 div.sk-serial::before {content: \"\";position: absolute;border-left: 1px solid gray;box-sizing: border-box;top: 0;bottom: 0;left: 50%;z-index: 0;}#sk-container-id-2 div.sk-serial {display: flex;flex-direction: column;align-items: center;background-color: white;padding-right: 0.2em;padding-left: 0.2em;position: relative;}#sk-container-id-2 div.sk-item {position: relative;z-index: 1;}#sk-container-id-2 div.sk-parallel {display: flex;align-items: stretch;justify-content: center;background-color: white;position: relative;}#sk-container-id-2 div.sk-item::before, #sk-container-id-2 div.sk-parallel-item::before {content: \"\";position: absolute;border-left: 1px solid gray;box-sizing: border-box;top: 0;bottom: 0;left: 50%;z-index: -1;}#sk-container-id-2 div.sk-parallel-item {display: flex;flex-direction: column;z-index: 1;position: relative;background-color: white;}#sk-container-id-2 div.sk-parallel-item:first-child::after {align-self: flex-end;width: 50%;}#sk-container-id-2 div.sk-parallel-item:last-child::after {align-self: flex-start;width: 50%;}#sk-container-id-2 div.sk-parallel-item:only-child::after {width: 0;}#sk-container-id-2 div.sk-dashed-wrapped {border: 1px dashed gray;margin: 0 0.4em 0.5em 0.4em;box-sizing: border-box;padding-bottom: 0.4em;background-color: white;}#sk-container-id-2 div.sk-label label {font-family: monospace;font-weight: bold;display: inline-block;line-height: 1.2em;}#sk-container-id-2 div.sk-label-container {text-align: center;}#sk-container-id-2 div.sk-container {/* jupyter's `normalize.less` sets `[hidden] { display: none; }` but bootstrap.min.css set `[hidden] { display: none !important; }` so we also need the `!important` here to be able to override the default hidden behavior on the sphinx rendered scikit-learn.org. See: https://github.com/scikit-learn/scikit-learn/issues/21755 */display: inline-block !important;position: relative;}#sk-container-id-2 div.sk-text-repr-fallback {display: none;}</style><div id=\"sk-container-id-2\" class=\"sk-top-container\"><div class=\"sk-text-repr-fallback\"><pre>LogisticRegression(max_iter=1000, random_state=42)</pre><b>In a Jupyter environment, please rerun this cell to show the HTML representation or trust the notebook. <br />On GitHub, the HTML representation is unable to render, please try loading this page with nbviewer.org.</b></div><div class=\"sk-container\" hidden><div class=\"sk-item\"><div class=\"sk-estimator sk-toggleable\"><input class=\"sk-toggleable__control sk-hidden--visually\" id=\"sk-estimator-id-2\" type=\"checkbox\" checked><label for=\"sk-estimator-id-2\" class=\"sk-toggleable__label sk-toggleable__label-arrow\">LogisticRegression</label><div class=\"sk-toggleable__content\"><pre>LogisticRegression(max_iter=1000, random_state=42)</pre></div></div></div></div></div>"
      ],
      "text/plain": [
       "LogisticRegression(max_iter=1000, random_state=42)"
      ]
     },
     "execution_count": 40,
     "metadata": {},
     "output_type": "execute_result"
    }
   ],
   "source": [
    "logistic_model = LogisticRegression(max_iter=1000, random_state=42)\n",
    "logistic_model.fit(X_train, y_train)"
   ]
  },
  {
   "cell_type": "markdown",
   "metadata": {},
   "source": [
    "Evaluate the Model (Make the predictions on the test set)"
   ]
  },
  {
   "cell_type": "code",
   "execution_count": 41,
   "metadata": {
    "collapsed": true
   },
   "outputs": [],
   "source": [
    "y_pred = logistic_model.predict(X_test)"
   ]
  },
  {
   "cell_type": "markdown",
   "metadata": {},
   "source": [
    "Calculate Accuracy"
   ]
  },
  {
   "cell_type": "code",
   "execution_count": 42,
   "metadata": {},
   "outputs": [
    {
     "name": "stdout",
     "output_type": "stream",
     "text": [
      "Accuracy: 0.9983961507618284\n"
     ]
    }
   ],
   "source": [
    "accuracy = accuracy_score(y_test, y_pred)\n",
    "print('Accuracy:', accuracy)"
   ]
  },
  {
   "cell_type": "markdown",
   "metadata": {},
   "source": [
    "Generate a classification report"
   ]
  },
  {
   "cell_type": "code",
   "execution_count": 43,
   "metadata": {},
   "outputs": [
    {
     "name": "stdout",
     "output_type": "stream",
     "text": [
      "\n",
      "Classification Report:\n",
      "               precision    recall  f1-score   support\n",
      "\n",
      "           0       1.00      1.00      1.00       831\n",
      "           1       1.00      1.00      1.00       416\n",
      "\n",
      "    accuracy                           1.00      1247\n",
      "   macro avg       1.00      1.00      1.00      1247\n",
      "weighted avg       1.00      1.00      1.00      1247\n",
      "\n"
     ]
    }
   ],
   "source": [
    "classification_report_summary = classification_report(y_test, y_pred)\n",
    "print('\\nClassification Report:\\n', classification_report_summary)"
   ]
  },
  {
   "cell_type": "markdown",
   "metadata": {},
   "source": [
    "### Visualize Confusion matrix\n",
    "Display the confusion "
   ]
  },
  {
   "cell_type": "code",
   "execution_count": 44,
   "metadata": {},
   "outputs": [
    {
     "data": {
      "image/png": "[encoded data removed]",
      "text/plain": [
       "<Figure size 432x288 with 2 Axes>"
      ]
     },
     "metadata": {
      "needs_background": "light"
     },
     "output_type": "display_data"
    }
   ],
   "source": [
    "ConfusionMatrixDisplay.from_estimator(logistic_model, X_test, y_test, display_labels=['TV Show', 'Movie'], cmap='Blues')\n",
    "plt.title('Confusion Matrix')\n",
    "plt.show()"
   ]
  },
  {
   "cell_type": "markdown",
   "metadata": {},
   "source": [
    "### Feature Importance\n",
    "Visualize the importance of top features"
   ]
  },
  {
   "cell_type": "code",
   "execution_count": 45,
   "metadata": {},
   "outputs": [
    {
     "data": {
      "image/png": "[encoded data removed]",
      "text/plain": [
       "<Figure size 720x432 with 1 Axes>"
      ]
     },
     "metadata": {
      "needs_background": "light"
     },
     "output_type": "display_data"
    }
   ],
   "source": [
    "coefficients = pd.Series(logistic_model.coef_[0], index=X.columns).sort_values(key=abs, ascending=False)\n",
    "top_features = coefficients[:10]\n",
    "\n",
    "plt.figure(figsize=(10, 6))\n",
    "top_features.plot(kind='bar', color='orange')\n",
    "plt.title('Top Features Impacting Classification')\n",
    "plt.xlabel('Features')\n",
    "plt.ylabel('Coefficient Value')\n",
    "plt.show()"
   ]
  },
  {
   "cell_type": "markdown",
   "metadata": {},
   "source": [
    "### The Logistic Regression model achieves a good accuracy on the test set. The classification report showed perfect precision, recall, and F1-scores for both classes (Movie and TV Show). The confusion matrix confirmed no misclassifications in the test data."
   ]
  },
  {
   "cell_type": "markdown",
   "metadata": {},
   "source": [
    "### Areas of improvment : Several areas can be explored to improve or validate the robustness of the solution such as checking for Overfitting, feature reduction or handling potential data leakage"
   ]
  },
  {
   "cell_type": "markdown",
   "metadata": {},
   "source": [
    "### FIN !!!!!"
   ]
  }
 ],
 "metadata": {
  "kernelspec": {
   "display_name": "Python 3.8",
   "language": "python",
   "name": "python38"
  },
  "language_info": {
   "codemirror_mode": {
    "name": "ipython",
    "version": 3
   },
   "file_extension": ".py",
   "mimetype": "text/x-python",
   "name": "python",
   "nbconvert_exporter": "python",
   "pygments_lexer": "ipython3",
   "version": "3.8.7"
  }
 },
 "nbformat": 4,
 "nbformat_minor": 2
}
